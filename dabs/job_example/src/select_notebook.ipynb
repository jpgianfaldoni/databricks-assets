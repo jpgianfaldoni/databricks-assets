{
 "cells": [
  {
   "cell_type": "code",
   "execution_count": null,
   "id": "4eb4d454",
   "metadata": {
    "vscode": {
     "languageId": "plaintext"
    }
   },
   "outputs": [],
   "source": [
    "catalog = dbutils.widgets.get(\"catalog\")\n",
    "schema = dbutils.widgets.get(\"schema\")\n",
    "table = dbutils.widgets.get(\"table\")\n",
    "print(catalog)\n",
    "df = spark.read.table(f\"{catalog}.{schema}.{table}\")\n",
    "display(df)"
   ]
  }
 ],
 "metadata": {
  "language_info": {
   "name": "python"
  }
 },
 "nbformat": 4,
 "nbformat_minor": 5
}
