{
 "cells": [
  {
   "cell_type": "code",
   "execution_count": null,
   "id": "bc67d436",
   "metadata": {},
   "outputs": [],
   "source": [
    "# Configuration - Set your catalog and schema\n",
    "catalog = \"main\"\n",
    "schema = \"jpg\"\n",
    "table_name = f\"{catalog}.{schema}.customers\"\n",
    "filter_function = f\"{catalog}.{schema}.simple_filter\"\n",
    "country_filter_function = f\"{catalog}.{schema}.country_row_filter\"\n",
    "mask_function = f\"{catalog}.{schema}.mask_email\"\n",
    "mapping_table = f\"{catalog}.{schema}.map_rls_country\"\n",
    "\n",
    "print(f\"Using catalog: {catalog}\")\n",
    "print(f\"Using schema: {schema}\")\n",
    "print(f\"Target table: {table_name}\")\n"
   ]
  },
  {
   "cell_type": "code",
   "execution_count": null,
   "id": "518210a0",
   "metadata": {
    "vscode": {
     "languageId": "plaintext"
    }
   },
   "outputs": [],
   "source": [
    "# Query the customers table (before applying any filters)\n",
    "spark.sql(f\"SELECT * FROM {table_name}\").display()"
   ]
  },
  {
   "cell_type": "code",
   "execution_count": null,
   "id": "9c95fc1b",
   "metadata": {
    "vscode": {
     "languageId": "plaintext"
    }
   },
   "outputs": [],
   "source": [
    "# Create a simple row filter function\n",
    "spark.sql(f\"\"\"\n",
    "CREATE OR REPLACE FUNCTION {filter_function}(country STRING)\n",
    "RETURN \n",
    "  is_account_group_member('tuanis_admins')\n",
    "  OR\n",
    "  country IN ('Brazil', 'United States')\n",
    "\"\"\")"
   ]
  },
  {
   "cell_type": "code",
   "execution_count": null,
   "id": "adbf2f28",
   "metadata": {
    "vscode": {
     "languageId": "plaintext"
    }
   },
   "outputs": [],
   "source": [
    "# Apply the row filter to the table\n",
    "spark.sql(f\"\"\"\n",
    "ALTER TABLE {table_name} \n",
    "SET ROW FILTER {filter_function} ON (country)\n",
    "\"\"\")\n"
   ]
  },
  {
   "cell_type": "code",
   "execution_count": null,
   "id": "50a35bcb",
   "metadata": {},
   "outputs": [],
   "source": [
    "# Remove the row filter from the table\n",
    "spark.sql(f\"\"\"\n",
    "ALTER TABLE {table_name} \n",
    "DROP ROW FILTER\n",
    "\"\"\")\n"
   ]
  },
  {
   "cell_type": "code",
   "execution_count": null,
   "id": "2693b84d",
   "metadata": {
    "vscode": {
     "languageId": "plaintext"
    }
   },
   "outputs": [],
   "source": [
    "# Create a mapping table for row-level security\n",
    "spark.sql(f\"\"\"\n",
    "CREATE TABLE IF NOT EXISTS {mapping_table} (\n",
    "  group STRING,\n",
    "  countries ARRAY<STRING>\n",
    ")\n",
    "\"\"\")"
   ]
  },
  {
   "cell_type": "code",
   "execution_count": null,
   "id": "f6fbd8cc",
   "metadata": {
    "vscode": {
     "languageId": "plaintext"
    }
   },
   "outputs": [],
   "source": [
    "# Insert sample data into the mapping table\n",
    "spark.sql(f\"\"\"\n",
    "INSERT INTO {mapping_table} (group, countries) VALUES\n",
    "  ('northamer', ARRAY('USA', 'CANADA', 'MEXICO')),\n",
    "  ('europe', ARRAY('FR', 'SPAIN'))\n",
    "\"\"\")"
   ]
  },
  {
   "cell_type": "code",
   "execution_count": null,
   "id": "b7f4b219",
   "metadata": {
    "vscode": {
     "languageId": "plaintext"
    }
   },
   "outputs": [],
   "source": [
    "# Create an advanced row filter function using the mapping table\n",
    "spark.sql(f\"\"\"\n",
    "CREATE OR REPLACE FUNCTION {country_filter_function}(country STRING)\n",
    "RETURN \n",
    "  is_account_group_member('tuanis_admins')\n",
    "  OR\n",
    "  EXISTS (\n",
    "    SELECT 1\n",
    "    FROM {mapping_table} m\n",
    "    WHERE \n",
    "    array_contains(m.countries, country)\n",
    "    AND is_account_group_member(m.group)\n",
    "  )\n",
    "\"\"\")\n"
   ]
  },
  {
   "cell_type": "code",
   "execution_count": null,
   "id": "7fb35fc2",
   "metadata": {
    "vscode": {
     "languageId": "plaintext"
    }
   },
   "outputs": [],
   "source": [
    "# Create a column masking function for email addresses\n",
    "spark.sql(f\"\"\"\n",
    "CREATE OR REPLACE FUNCTION {mask_function}(email STRING)\n",
    "RETURN\n",
    "  IF(\n",
    "    is_account_group_member('tuanis_admins'),\n",
    "    email,\n",
    "    CONCAT('***@', SPLIT(email, '@')[1])\n",
    "  )\n",
    "\"\"\")\n"
   ]
  },
  {
   "cell_type": "code",
   "execution_count": null,
   "id": "0af9e4b7",
   "metadata": {},
   "outputs": [],
   "source": [
    "# Apply column masking to the email column\n",
    "spark.sql(f\"\"\"\n",
    "ALTER TABLE {table_name}\n",
    "ALTER COLUMN email SET MASK {mask_function}\n",
    "\"\"\")\n"
   ]
  },
  {
   "cell_type": "code",
   "execution_count": null,
   "id": "94178a9c",
   "metadata": {},
   "outputs": [],
   "source": [
    "# Remove column masking from the email column\n",
    "spark.sql(f\"\"\"\n",
    "ALTER TABLE {table_name}\n",
    "ALTER COLUMN email DROP MASK\n",
    "\"\"\")\n"
   ]
  }
 ],
 "metadata": {
  "language_info": {
   "name": "python"
  }
 },
 "nbformat": 4,
 "nbformat_minor": 5
}
