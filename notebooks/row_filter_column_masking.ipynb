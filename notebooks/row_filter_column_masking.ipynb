{
 "cells": [
  {
   "cell_type": "code",
   "execution_count": null,
   "id": "518210a0",
   "metadata": {
    "vscode": {
     "languageId": "plaintext"
    }
   },
   "outputs": [],
   "source": [
    "%sql\n",
    "select * from prod.uc_01_acl.customers"
   ]
  },
  {
   "cell_type": "code",
   "execution_count": null,
   "id": "9c95fc1b",
   "metadata": {
    "vscode": {
     "languageId": "plaintext"
    }
   },
   "outputs": [],
   "source": [
    "%sql \n",
    "CREATE OR REPLACE FUNCTION main.jpg.simple_filter(country STRING)\n",
    "RETURN \n",
    "  is_account_group_member('tuanis_admins')\n",
    "  OR\n",
    "  country IN ('Brazil', 'United States')\n",
    ";"
   ]
  },
  {
   "cell_type": "code",
   "execution_count": null,
   "id": "adbf2f28",
   "metadata": {
    "vscode": {
     "languageId": "plaintext"
    }
   },
   "outputs": [],
   "source": [
    "%sql\n",
    "ALTER TABLE main.jpg.customers \n",
    "SET ROW FILTER main.jpg.simple_filter ON (country);\n"
   ]
  },
  {
   "cell_type": "code",
   "execution_count": null,
   "id": "2693b84d",
   "metadata": {
    "vscode": {
     "languageId": "plaintext"
    }
   },
   "outputs": [],
   "source": [
    "%sql\n",
    "CREATE TABLE main.jpg.map_rls_country (\n",
    "  group STRING,\n",
    "  countries ARRAY<STRING>\n",
    ");"
   ]
  },
  {
   "cell_type": "code",
   "execution_count": null,
   "id": "f6fbd8cc",
   "metadata": {
    "vscode": {
     "languageId": "plaintext"
    }
   },
   "outputs": [],
   "source": [
    "%sql\n",
    "INSERT INTO main.jpg.map_rls_country (group, countries) VALUES\n",
    "  ('northamer', ARRAY('USA', 'CANADA', 'MEXICO')),\n",
    "  ('europe', ARRAY('FR', 'SPAIN'));"
   ]
  },
  {
   "cell_type": "code",
   "execution_count": null,
   "id": "b7f4b219",
   "metadata": {
    "vscode": {
     "languageId": "plaintext"
    }
   },
   "outputs": [],
   "source": [
    "%sql \n",
    "CREATE OR REPLACE FUNCTION main.jpg.country_row_filter(country STRING)\n",
    "RETURN \n",
    "  is_account_group_member('tuanis_admins')\n",
    "  OR\n",
    "  EXISTS (\n",
    "    SELECT 1\n",
    "    FROM prod.default.map_rls_country m\n",
    "    WHERE \n",
    "    array_contains(m.countries, country)\n",
    "    AND is_account_group_member(m.group)\n",
    "  )\n",
    ";\n"
   ]
  },
  {
   "cell_type": "code",
   "execution_count": null,
   "id": "7fb35fc2",
   "metadata": {
    "vscode": {
     "languageId": "plaintext"
    }
   },
   "outputs": [],
   "source": [
    "%sql\n",
    "CREATE OR REPLACE FUNCTION main.jpg.mask_email(email STRING)\n",
    "RETURN\n",
    "  IF(\n",
    "    is_account_group_member('tuanis_admins'),\n",
    "    email,\n",
    "    CONCAT('***@', SPLIT(email, '@')[1])\n",
    "  )\n",
    ";\n"
   ]
  }
 ],
 "metadata": {
  "language_info": {
   "name": "python"
  }
 },
 "nbformat": 4,
 "nbformat_minor": 5
}
